{
 "cells": [
  {
   "cell_type": "code",
   "execution_count": 3,
   "id": "256e08dd-2602-4352-9bc3-dba20f59f3e1",
   "metadata": {},
   "outputs": [],
   "source": [
    "import sqlite3\n",
    "import pandas as pd"
   ]
  },
  {
   "cell_type": "code",
   "execution_count": 19,
   "id": "9f7840c3-2835-4887-b7fd-f3b750dcb021",
   "metadata": {},
   "outputs": [],
   "source": [
    "#need to find a way so this isn't called every time the page is run, use g global variable\n",
    "\n",
    "def make_table():\n",
    "    with sqlite3.connect(\"voter_data.db\") as conn:\n",
    "        df = pd.read_csv(\"~/Documents/GitHub/course-project-16b/alaska_presidentialelection.csv\")\n",
    "        df = df[[\"rank1\",\"rank2\",\"rank3\",\"rank4\",\"rank5\"]]\n",
    "        df.to_sql(\"votes\",conn,index=False,if_exists=\"replace\")\n",
    "        "
   ]
  },
  {
   "cell_type": "code",
   "execution_count": 22,
   "id": "d549a193-a9c3-43aa-a5e8-746dce7475da",
   "metadata": {},
   "outputs": [
    {
     "name": "stdout",
     "output_type": "stream",
     "text": [
      "[('Joseph R. Biden', 'Amy Klobuchar', 'Pete Buttigieg', 'Tom Steyer', 'Elizabeth Warren'), ('Joseph R. Biden', 'skipped', 'skipped', 'skipped', 'skipped'), ('Joseph R. Biden', 'skipped', 'skipped', 'skipped', 'skipped'), ('Bernie Sanders', 'Joseph R. Biden', 'skipped', 'skipped', 'skipped'), ('Joseph R. Biden', 'Elizabeth Warren', 'skipped', 'skipped', 'skipped')]\n"
     ]
    }
   ],
   "source": [
    "with sqlite3.connect(\"voter_data.db\") as conn:\n",
    "    cursor = conn.cursor()\n",
    "    cursor.execute(\"SELECT * FROM votes LIMIT 5\")\n",
    "    print(cursor.fetchall())\n",
    "    "
   ]
  },
  {
   "cell_type": "code",
   "execution_count": null,
   "id": "1a305dec-de36-4140-806f-8ce57f42a95b",
   "metadata": {},
   "outputs": [],
   "source": [
    "with sqlite"
   ]
  },
  {
   "cell_type": "code",
   "execution_count": 34,
   "id": "761776ea-4c62-4d26-8000-0475f43e7e56",
   "metadata": {},
   "outputs": [],
   "source": [
    "def plurality():\n",
    "    with sqlite3.connect(\"voter_data.db\") as conn:\n",
    "        cursor = conn.cursor()\n",
    "        cmd = \"\"\"\n",
    "        SELECT rank1, COUNT(rank1)\n",
    "        FROM votes\n",
    "        GROUP BY rank1\n",
    "        ORDER BY COUNT(rank1) DESC\n",
    "        \"\"\"\n",
    "        cursor.execute(cmd)\n",
    "        return cursor.fetchall()"
   ]
  },
  {
   "cell_type": "code",
   "execution_count": 35,
   "id": "8e8b1b97-5821-4b31-b144-8125e746f73d",
   "metadata": {},
   "outputs": [
    {
     "data": {
      "text/plain": [
       "[('Joseph R. Biden', 9860),\n",
       " ('Bernie Sanders', 7762),\n",
       " ('Elizabeth Warren', 1399),\n",
       " ('Pete Buttigieg', 247),\n",
       " ('Amy Klobuchar', 131),\n",
       " ('Tulsi Gabbard', 124),\n",
       " ('Michael R. Bloomberg', 97),\n",
       " ('Undeclared', 64),\n",
       " ('Tom Steyer', 64),\n",
       " ('overvote', 32),\n",
       " ('skipped', 31)]"
      ]
     },
     "execution_count": 35,
     "metadata": {},
     "output_type": "execute_result"
    }
   ],
   "source": [
    "plurality()"
   ]
  },
  {
   "cell_type": "code",
   "execution_count": null,
   "id": "dea81033-7c12-4b2b-89e4-84950b3da556",
   "metadata": {},
   "outputs": [],
   "source": [
    "def borda():\n",
    "    with sqlite3.connect(\"voter_data.db\") as conn:\n",
    "        cursor = conn.cursor()\n",
    "        cmd = \"\"\"\n",
    "        SELECT rank1, COUNT(rank1)\n",
    "        FROM votes\n",
    "        GROUP BY rank1\n",
    "        ORDER BY COUNT(rank1) DESC\n",
    "        \"\"\"\n",
    "        cursor.execute(cmd)\n",
    "        return cursor.fetchall()"
   ]
  }
 ],
 "metadata": {
  "kernelspec": {
   "display_name": "Python 3 (ipykernel)",
   "language": "python",
   "name": "python3"
  },
  "language_info": {
   "codemirror_mode": {
    "name": "ipython",
    "version": 3
   },
   "file_extension": ".py",
   "mimetype": "text/x-python",
   "name": "python",
   "nbconvert_exporter": "python",
   "pygments_lexer": "ipython3",
   "version": "3.9.12"
  }
 },
 "nbformat": 4,
 "nbformat_minor": 5
}
