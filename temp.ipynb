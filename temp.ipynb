{
 "cells": [
  {
   "cell_type": "code",
   "execution_count": 3,
   "id": "256e08dd-2602-4352-9bc3-dba20f59f3e1",
   "metadata": {},
   "outputs": [],
   "source": [
    "import sqlite3\n",
    "import pandas as pd"
   ]
  },
  {
   "cell_type": "code",
   "execution_count": 19,
   "id": "9f7840c3-2835-4887-b7fd-f3b750dcb021",
   "metadata": {},
   "outputs": [],
   "source": [
    "#need to find a way so this isn't called every time the page is run, use g global variable\n",
    "#do some data cleaning: remove profiles that list \n",
    "\n",
    "def make_table():\n",
    "    with sqlite3.connect(\"voter_data.db\") as conn:\n",
    "        df = pd.read_csv(\"~/Documents/GitHub/course-project-16b/alaska_presidentialelection.csv\")\n",
    "        df = df[[\"rank1\",\"rank2\",\"rank3\",\"rank4\",\"rank5\"]]\n",
    "        df.to_sql(\"votes\",conn,index=False,if_exists=\"replace\")\n",
    "        "
   ]
  },
  {
   "cell_type": "code",
   "execution_count": 22,
   "id": "d549a193-a9c3-43aa-a5e8-746dce7475da",
   "metadata": {},
   "outputs": [
    {
     "name": "stdout",
     "output_type": "stream",
     "text": [
      "[('Joseph R. Biden', 'Amy Klobuchar', 'Pete Buttigieg', 'Tom Steyer', 'Elizabeth Warren'), ('Joseph R. Biden', 'skipped', 'skipped', 'skipped', 'skipped'), ('Joseph R. Biden', 'skipped', 'skipped', 'skipped', 'skipped'), ('Bernie Sanders', 'Joseph R. Biden', 'skipped', 'skipped', 'skipped'), ('Joseph R. Biden', 'Elizabeth Warren', 'skipped', 'skipped', 'skipped')]\n"
     ]
    }
   ],
   "source": [
    "with sqlite3.connect(\"voter_data.db\") as conn:\n",
    "    cursor = conn.cursor()\n",
    "    cursor.execute(\"SELECT * FROM votes LIMIT 5\")\n",
    "    print(cursor.fetchall())\n",
    "    "
   ]
  },
  {
   "cell_type": "code",
   "execution_count": 59,
   "id": "1a305dec-de36-4140-806f-8ce57f42a95b",
   "metadata": {},
   "outputs": [
    {
     "data": {
      "text/plain": [
       "['overvote',\n",
       " 'skipped',\n",
       " 'Tulsi Gabbard',\n",
       " 'Elizabeth Warren',\n",
       " 'Pete Buttigieg',\n",
       " 'Michael R. Bloomberg',\n",
       " 'Tom Steyer',\n",
       " 'Joseph R. Biden',\n",
       " 'Undeclared',\n",
       " 'Bernie Sanders',\n",
       " 'Amy Klobuchar']"
      ]
     },
     "execution_count": 59,
     "metadata": {},
     "output_type": "execute_result"
    }
   ],
   "source": [
    "with sqlite3.connect(\"voter_data.db\") as conn:\n",
    "    cursor = conn.cursor()\n",
    "    results = []\n",
    "    for col in [\"rank1\",\"rank2\",\"rank3\",\"rank4\",\"rank5\"]:\n",
    "        cmd = f\"SELECT DISTINCT {col} FROM votes\"\n",
    "        cursor.execute(cmd)\n",
    "        results += list(zip(*cursor.fetchall()))[0]\n",
    "        \n",
    "results = list(set(results))\n",
    "results\n",
    "#clean later to remove overvote, skipped, undeclared"
   ]
  },
  {
   "cell_type": "code",
   "execution_count": 73,
   "id": "204558ca-32bb-4210-b7b2-e0e90a2fc353",
   "metadata": {},
   "outputs": [],
   "source": [
    "results = ['Tulsi Gabbard',\n",
    " 'Elizabeth Warren',\n",
    " 'Pete Buttigieg',\n",
    " 'Michael R. Bloomberg',\n",
    " 'Tom Steyer',\n",
    " 'Joseph R. Biden',\n",
    " 'Bernie Sanders',\n",
    " 'Amy Klobuchar']"
   ]
  },
  {
   "cell_type": "code",
   "execution_count": 34,
   "id": "761776ea-4c62-4d26-8000-0475f43e7e56",
   "metadata": {},
   "outputs": [],
   "source": [
    "def plurality():\n",
    "    with sqlite3.connect(\"voter_data.db\") as conn:\n",
    "        cursor = conn.cursor()\n",
    "        cmd = \"\"\"\n",
    "        SELECT rank1, COUNT(rank1)\n",
    "        FROM votes\n",
    "        GROUP BY rank1\n",
    "        ORDER BY COUNT(rank1) DESC\n",
    "        \"\"\"\n",
    "        cursor.execute(cmd)\n",
    "        return cursor.fetchall()"
   ]
  },
  {
   "cell_type": "code",
   "execution_count": 35,
   "id": "8e8b1b97-5821-4b31-b144-8125e746f73d",
   "metadata": {},
   "outputs": [
    {
     "data": {
      "text/plain": [
       "[('Joseph R. Biden', 9860),\n",
       " ('Bernie Sanders', 7762),\n",
       " ('Elizabeth Warren', 1399),\n",
       " ('Pete Buttigieg', 247),\n",
       " ('Amy Klobuchar', 131),\n",
       " ('Tulsi Gabbard', 124),\n",
       " ('Michael R. Bloomberg', 97),\n",
       " ('Undeclared', 64),\n",
       " ('Tom Steyer', 64),\n",
       " ('overvote', 32),\n",
       " ('skipped', 31)]"
      ]
     },
     "execution_count": 35,
     "metadata": {},
     "output_type": "execute_result"
    }
   ],
   "source": [
    "plurality()"
   ]
  },
  {
   "cell_type": "code",
   "execution_count": 74,
   "id": "dea81033-7c12-4b2b-89e4-84950b3da556",
   "metadata": {},
   "outputs": [],
   "source": [
    "def borda(point_dict={1:1,2:2,3:3,4:4,5:5}):\n",
    "    #ask if there's a more efficient way to do this\n",
    "    \n",
    "    count = {}\n",
    "    with sqlite3.connect(\"voter_data.db\") as conn:\n",
    "        cursor = conn.cursor()\n",
    "        for result in results:\n",
    "            for col in [1,2,3,4,5]:\n",
    "                cmd = f\"SELECT {point_dict[col]}*COUNT(rank{col}) FROM votes WHERE (rank{col}=='{result}')\"\n",
    "                cursor.execute(cmd)\n",
    "                count[result] = count.get(result,0) + cursor.fetchone()[0]\n",
    "    return [(i,j) for i,j in count.items()]"
   ]
  },
  {
   "cell_type": "code",
   "execution_count": 75,
   "id": "2650e41c-e428-463a-83a8-2e4373bcaaf6",
   "metadata": {},
   "outputs": [
    {
     "data": {
      "text/plain": [
       "[('Tulsi Gabbard', 6817),\n",
       " ('Elizabeth Warren', 23377),\n",
       " ('Pete Buttigieg', 19055),\n",
       " ('Michael R. Bloomberg', 8535),\n",
       " ('Tom Steyer', 7766),\n",
       " ('Joseph R. Biden', 29815),\n",
       " ('Bernie Sanders', 28724),\n",
       " ('Amy Klobuchar', 19112)]"
      ]
     },
     "execution_count": 75,
     "metadata": {},
     "output_type": "execute_result"
    }
   ],
   "source": [
    "borda()"
   ]
  },
  {
   "cell_type": "code",
   "execution_count": 83,
   "id": "454690cd-02ff-4bc7-9bca-c1798be0ecf2",
   "metadata": {},
   "outputs": [
    {
     "data": {
      "text/plain": [
       "2467"
      ]
     },
     "execution_count": 83,
     "metadata": {},
     "output_type": "execute_result"
    }
   ],
   "source": [
    "def preference_profiles():\n",
    "    with sqlite3.connect(\"voter_data.db\") as conn:\n",
    "        cursor = conn.cursor()\n",
    "        cursor.execute(\"SELECT *,COUNT(*) FROM votes \\\n",
    "        GROUP BY rank1,rank2,rank3,rank4,rank5 \\\n",
    "        ORDER BY COUNT(*) DESC\")\n",
    "    return cursor.fetchall()\n",
    " \n",
    "len(preference_profiles())"
   ]
  },
  {
   "cell_type": "code",
   "execution_count": null,
   "id": "e180c7bf-c166-48f3-9c59-26cf8377a9e7",
   "metadata": {},
   "outputs": [],
   "source": [
    "def IRV():\n",
    "    can_win = results\n",
    "    to_return = \n",
    "    with sqlite3.connect(\"voter_data.db\") as conn:\n",
    "        cursor = conn.cursor()\n",
    "        while len(can_win)>1:\n",
    "            cmd = f\"SELECT COUNT(rank1)\"\n",
    "            \n",
    "#figure out a way to implement this"
   ]
  },
  {
   "cell_type": "code",
   "execution_count": 92,
   "id": "dac287ef-0e0a-4cf2-81fb-7db3f65ca745",
   "metadata": {},
   "outputs": [],
   "source": [
    "def TopTwo():\n",
    "    plural = plurality()\n",
    "    top_two = [plural[0][0],plural[1][0]]\n",
    "    with sqlite3.connect(\"voter_data.db\") as conn:\n",
    "        cursor = conn.cursor()\n",
    "        #hard-coded because I have no idea how else to do this\n",
    "        cmd = f\"\"\"\n",
    "        SELECT COUNT(*) FROM votes\n",
    "        WHERE (rank1 == '{top_two[0]}' AND rank2 == '{top_two[1]}')\n",
    "        OR (rank1 == '{top_two[0]}' AND rank3 == '{top_two[1]}')\n",
    "        OR (rank1 == '{top_two[0]}' AND rank4 == '{top_two[1]}')\n",
    "        OR (rank1 == '{top_two[0]}' AND rank5 == '{top_two[1]}')\n",
    "        OR (rank2 == '{top_two[0]}' AND rank3 == '{top_two[1]}')\n",
    "        OR (rank2 == '{top_two[0]}' AND rank4 == '{top_two[1]}')\n",
    "        OR (rank2 == '{top_two[0]}' AND rank5 == '{top_two[1]}')\n",
    "        OR (rank3 == '{top_two[0]}' AND rank4 == '{top_two[1]}')\n",
    "        OR (rank3 == '{top_two[0]}' AND rank5 == '{top_two[1]}')\n",
    "        OR (rank4 == '{top_two[0]}' AND rank5 == '{top_two[1]}')\n",
    "        OR (rank5 == '{top_two[0]}' AND rank1 != '{top_two[1]}' AND rank2 != '{top_two[1]}'\n",
    "        AND rank3 != '{top_two[1]}' AND rank4 != '{top_two[1]}')\n",
    "        \"\"\"\n",
    "        cursor.execute(cmd)\n",
    "        count1 = cursor.fetchone()[0]\n",
    "        \n",
    "        cmd = f\"\"\"\n",
    "        SELECT COUNT(*) FROM votes\n",
    "        WHERE (rank1 == '{top_two[1]}' AND rank2 == '{top_two[0]}')\n",
    "        OR (rank1 == '{top_two[1]}' AND rank3 == '{top_two[0]}')\n",
    "        OR (rank1 == '{top_two[1]}' AND rank4 == '{top_two[0]}')\n",
    "        OR (rank1 == '{top_two[1]}' AND rank5 == '{top_two[0]}')\n",
    "        OR (rank2 == '{top_two[1]}' AND rank3 == '{top_two[0]}')\n",
    "        OR (rank2 == '{top_two[1]}' AND rank4 == '{top_two[0]}')\n",
    "        OR (rank2 == '{top_two[1]}' AND rank5 == '{top_two[0]}')\n",
    "        OR (rank3 == '{top_two[1]}' AND rank4 == '{top_two[0]}')\n",
    "        OR (rank3 == '{top_two[1]}' AND rank5 == '{top_two[0]}')\n",
    "        OR (rank4 == '{top_two[1]}' AND rank5 == '{top_two[0]}')\n",
    "        OR (rank5 == '{top_two[1]}' AND rank1 != '{top_two[0]}' AND rank2 != '{top_two[0]}'\n",
    "        AND rank3 != '{top_two[0]}' AND rank4 != '{top_two[0]}')\n",
    "        \"\"\"\n",
    "        cursor.execute(cmd)\n",
    "        count2 = cursor.fetchone()[0]\n",
    "        \n",
    "    return list(zip(top_two,[count1,count2]))"
   ]
  },
  {
   "cell_type": "code",
   "execution_count": 93,
   "id": "a02d5f0b-1474-47a1-8b73-a1610c9b6a13",
   "metadata": {},
   "outputs": [
    {
     "data": {
      "text/plain": [
       "[('Joseph R. Biden', 6480), ('Bernie Sanders', 5696)]"
      ]
     },
     "execution_count": 93,
     "metadata": {},
     "output_type": "execute_result"
    }
   ],
   "source": [
    "TopTwo()"
   ]
  },
  {
   "cell_type": "code",
   "execution_count": null,
   "id": "1c96b6a5-3cd4-437b-9043-9ce7314f189b",
   "metadata": {},
   "outputs": [],
   "source": []
  }
 ],
 "metadata": {
  "kernelspec": {
   "display_name": "Python 3 (ipykernel)",
   "language": "python",
   "name": "python3"
  },
  "language_info": {
   "codemirror_mode": {
    "name": "ipython",
    "version": 3
   },
   "file_extension": ".py",
   "mimetype": "text/x-python",
   "name": "python",
   "nbconvert_exporter": "python",
   "pygments_lexer": "ipython3",
   "version": "3.9.12"
  }
 },
 "nbformat": 4,
 "nbformat_minor": 5
}
