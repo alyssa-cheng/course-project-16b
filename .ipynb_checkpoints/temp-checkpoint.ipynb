{
 "cells": [
  {
   "cell_type": "code",
   "execution_count": 3,
   "id": "256e08dd-2602-4352-9bc3-dba20f59f3e1",
   "metadata": {},
   "outputs": [],
   "source": [
    "import sqlite3\n",
    "import pandas as pd"
   ]
  },
  {
   "cell_type": "code",
   "execution_count": 15,
   "id": "9f7840c3-2835-4887-b7fd-f3b750dcb021",
   "metadata": {},
   "outputs": [],
   "source": [
    "#need to find a way so this isn't called every time the page is run, use g global variable\n",
    "\n",
    "def make_table():\n",
    "    #with sqlite3.connect(\"voter_data.db\") as conn:\n",
    "    conn = sqlite3.connect(\"voter_data.db\")\n",
    "    df = pd.read_csv(\"~/Documents/GitHub/course-project-16b/alaska_presidentialelection.csv\")\n",
    "    df = df[[\"rank1\",\"rank2\",\"rank3\",\"rank4\",\"rank5\"]]\n",
    "    df.to_sql(\"votes\",conn,index=False,if_exists=\"replace\")\n",
    "        "
   ]
  },
  {
   "cell_type": "code",
   "execution_count": 16,
   "id": "d549a193-a9c3-43aa-a5e8-746dce7475da",
   "metadata": {},
   "outputs": [],
   "source": [
    "make_table()"
   ]
  },
  {
   "cell_type": "code",
   "execution_count": null,
   "id": "761776ea-4c62-4d26-8000-0475f43e7e56",
   "metadata": {},
   "outputs": [],
   "source": []
  }
 ],
 "metadata": {
  "kernelspec": {
   "display_name": "Python 3 (ipykernel)",
   "language": "python",
   "name": "python3"
  },
  "language_info": {
   "codemirror_mode": {
    "name": "ipython",
    "version": 3
   },
   "file_extension": ".py",
   "mimetype": "text/x-python",
   "name": "python",
   "nbconvert_exporter": "python",
   "pygments_lexer": "ipython3",
   "version": "3.9.12"
  }
 },
 "nbformat": 4,
 "nbformat_minor": 5
}
