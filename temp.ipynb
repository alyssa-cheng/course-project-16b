{
 "cells": [
  {
   "cell_type": "code",
   "execution_count": 6,
   "id": "256e08dd-2602-4352-9bc3-dba20f59f3e1",
   "metadata": {},
   "outputs": [],
   "source": [
    "import sqlite3\n",
    "import pandas as pd\n",
    "import numpy as np"
   ]
  },
  {
   "cell_type": "code",
   "execution_count": 101,
   "id": "9f7840c3-2835-4887-b7fd-f3b750dcb021",
   "metadata": {},
   "outputs": [],
   "source": [
    "#need to find a way so this isn't called every time the page is run, use g global variable\n",
    "#do some data cleaning: remove profiles that list \n",
    "\n",
    "def make_table():\n",
    "    with sqlite3.connect(\"voter_data.db\") as conn:\n",
    "        df = pd.read_csv(\"~/Documents/GitHub/course-project-16b/alaska_presidentialelection.csv\")\n",
    "        df = df[[\"rank1\",\"rank2\",\"rank3\",\"rank4\",\"rank5\"]]\n",
    "        df.to_sql(\"votes\",conn,index=False,if_exists=\"replace\")\n",
    "        \n",
    "        cursor = conn.cursor()\n",
    "        for i in range(1,6):\n",
    "            cmd = f\"\"\"\n",
    "            UPDATE votes \n",
    "            SET rank{i} = REPLACE(REPLACE(REPLACE(rank{i},\"overvote\",\"N/A\"),\"skipped\",\"N/A\"),\"Undeclared\",\"N/A\")\n",
    "            \"\"\"\n",
    "            cursor.execute(cmd)\n",
    "            conn.commit()\n",
    "\n",
    "        "
   ]
  },
  {
   "cell_type": "code",
   "execution_count": 102,
   "id": "7f6fec38-629f-45c3-80d6-4595ac881b52",
   "metadata": {},
   "outputs": [],
   "source": [
    "make_table()"
   ]
  },
  {
   "cell_type": "code",
   "execution_count": 103,
   "id": "d549a193-a9c3-43aa-a5e8-746dce7475da",
   "metadata": {},
   "outputs": [
    {
     "name": "stdout",
     "output_type": "stream",
     "text": [
      "[('Joseph R. Biden', 'Amy Klobuchar', 'Pete Buttigieg', 'Tom Steyer', 'Elizabeth Warren'), ('Joseph R. Biden', 'N/A', 'N/A', 'N/A', 'N/A'), ('Joseph R. Biden', 'N/A', 'N/A', 'N/A', 'N/A'), ('Bernie Sanders', 'Joseph R. Biden', 'N/A', 'N/A', 'N/A'), ('Joseph R. Biden', 'Elizabeth Warren', 'N/A', 'N/A', 'N/A')]\n"
     ]
    }
   ],
   "source": [
    "with sqlite3.connect(\"voter_data.db\") as conn:\n",
    "    cursor = conn.cursor()\n",
    "    cursor.execute(\"SELECT * FROM votes LIMIT 5\")\n",
    "    print(cursor.fetchall())\n",
    "    "
   ]
  },
  {
   "cell_type": "code",
   "execution_count": 104,
   "id": "1a305dec-de36-4140-806f-8ce57f42a95b",
   "metadata": {},
   "outputs": [
    {
     "data": {
      "text/plain": [
       "['Tom Steyer',\n",
       " 'Tulsi Gabbard',\n",
       " 'Bernie Sanders',\n",
       " 'Michael R. Bloomberg',\n",
       " 'N/A',\n",
       " 'Elizabeth Warren',\n",
       " 'Joseph R. Biden',\n",
       " 'Pete Buttigieg',\n",
       " 'Amy Klobuchar']"
      ]
     },
     "execution_count": 104,
     "metadata": {},
     "output_type": "execute_result"
    }
   ],
   "source": [
    "with sqlite3.connect(\"voter_data.db\") as conn:\n",
    "    cursor = conn.cursor()\n",
    "    results = []\n",
    "    for col in [\"rank1\",\"rank2\",\"rank3\",\"rank4\",\"rank5\"]:\n",
    "        cmd = f\"SELECT DISTINCT {col} FROM votes\"\n",
    "        cursor.execute(cmd)\n",
    "        results += list(zip(*cursor.fetchall()))[0]\n",
    "        \n",
    "results = list(set(results))\n",
    "results\n",
    "#clean later to remove overvote, skipped, undeclared"
   ]
  },
  {
   "cell_type": "code",
   "execution_count": 39,
   "id": "204558ca-32bb-4210-b7b2-e0e90a2fc353",
   "metadata": {},
   "outputs": [],
   "source": [
    "results = ['Tulsi Gabbard',\n",
    " 'Elizabeth Warren',\n",
    " 'Pete Buttigieg',\n",
    " 'Michael R. Bloomberg',\n",
    " 'Tom Steyer',\n",
    " 'Joseph R. Biden',\n",
    " 'Bernie Sanders',\n",
    " 'Amy Klobuchar']"
   ]
  },
  {
   "cell_type": "code",
   "execution_count": 85,
   "id": "59f3b4fe-f62a-4d41-ae35-10728865bbac",
   "metadata": {},
   "outputs": [],
   "source": [
    "def get_ranks(name,db_name):\n",
    "    with sqlite3.connect(\"voter_data.db\") as conn:\n",
    "        cursor = conn.cursor()\n",
    "        cmd = f\"\"\"\n",
    "        SELECT CASE\n",
    "            WHEN '{name}' IN (rank1) THEN 1\n",
    "            WHEN '{name}' IN (rank2) THEN 2\n",
    "            WHEN '{name}' IN (rank3) THEN 3\n",
    "            WHEN '{name}' IN (rank4) THEN 4\n",
    "            WHEN '{name}' IN (rank5) THEN 5\n",
    "            ELSE 6\n",
    "        END FROM {db_name}\n",
    "        \"\"\" #if ranked multiple times, returns highest rank\n",
    "        cursor.execute(cmd)\n",
    "        return np.array(list(zip(*cursor.fetchall()))[0])\n",
    "    \n",
    "#get_ranks(\"Tulsi Gabbard\")"
   ]
  },
  {
   "cell_type": "code",
   "execution_count": 76,
   "id": "761776ea-4c62-4d26-8000-0475f43e7e56",
   "metadata": {},
   "outputs": [],
   "source": [
    "def plurality(db_name):\n",
    "    with sqlite3.connect(\"voter_data.db\") as conn:\n",
    "        cursor = conn.cursor()\n",
    "        cmd = f\"\"\"\n",
    "        SELECT rank1, COUNT(rank1)\n",
    "        FROM {db_name}\n",
    "        GROUP BY rank1\n",
    "        ORDER BY COUNT(rank1) DESC\n",
    "        \"\"\"\n",
    "        cursor.execute(cmd)\n",
    "        return cursor.fetchall()"
   ]
  },
  {
   "cell_type": "code",
   "execution_count": 78,
   "id": "8e8b1b97-5821-4b31-b144-8125e746f73d",
   "metadata": {},
   "outputs": [
    {
     "data": {
      "text/plain": [
       "[('Joseph R. Biden', 9860),\n",
       " ('Bernie Sanders', 7762),\n",
       " ('Elizabeth Warren', 1399),\n",
       " ('Pete Buttigieg', 247),\n",
       " ('Amy Klobuchar', 131),\n",
       " ('Tulsi Gabbard', 124),\n",
       " ('Michael R. Bloomberg', 97),\n",
       " ('Undeclared', 64),\n",
       " ('Tom Steyer', 64),\n",
       " ('overvote', 32),\n",
       " ('skipped', 31)]"
      ]
     },
     "execution_count": 78,
     "metadata": {},
     "output_type": "execute_result"
    }
   ],
   "source": [
    "plurality(\"votes\")"
   ]
  },
  {
   "cell_type": "code",
   "execution_count": 81,
   "id": "dea81033-7c12-4b2b-89e4-84950b3da556",
   "metadata": {},
   "outputs": [],
   "source": [
    "def borda(db_name,point_dict={1:1,2:2,3:3,4:4,5:5}):\n",
    "    #ask if there's a more efficient way to do this\n",
    "    count = {}\n",
    "    with sqlite3.connect(\"voter_data.db\") as conn:\n",
    "        cursor = conn.cursor()\n",
    "        for result in results:\n",
    "            for col in [1,2,3,4,5]:\n",
    "                cmd = f\"SELECT {point_dict[col]}*COUNT(rank{col}) FROM {db_name} WHERE (rank{col}=='{result}')\"\n",
    "                cursor.execute(cmd)\n",
    "                count[result] = count.get(result,0) + cursor.fetchone()[0]\n",
    "    return [(i,j) for i,j in count.items()]"
   ]
  },
  {
   "cell_type": "code",
   "execution_count": 84,
   "id": "2650e41c-e428-463a-83a8-2e4373bcaaf6",
   "metadata": {},
   "outputs": [
    {
     "data": {
      "text/plain": [
       "[('Tulsi Gabbard', 6817),\n",
       " ('Elizabeth Warren', 23377),\n",
       " ('Pete Buttigieg', 19055),\n",
       " ('Michael R. Bloomberg', 8535),\n",
       " ('Tom Steyer', 7766),\n",
       " ('Joseph R. Biden', 29815),\n",
       " ('Bernie Sanders', 28724),\n",
       " ('Amy Klobuchar', 19112)]"
      ]
     },
     "execution_count": 84,
     "metadata": {},
     "output_type": "execute_result"
    }
   ],
   "source": [
    "borda(\"votes\")"
   ]
  },
  {
   "cell_type": "code",
   "execution_count": 83,
   "id": "454690cd-02ff-4bc7-9bca-c1798be0ecf2",
   "metadata": {},
   "outputs": [
    {
     "data": {
      "text/plain": [
       "2467"
      ]
     },
     "execution_count": 83,
     "metadata": {},
     "output_type": "execute_result"
    }
   ],
   "source": [
    "def preference_profiles():\n",
    "    with sqlite3.connect(\"voter_data.db\") as conn:\n",
    "        cursor = conn.cursor()\n",
    "        cursor.execute(\"SELECT *,COUNT(*) FROM votes \\\n",
    "        GROUP BY rank1,rank2,rank3,rank4,rank5 \\\n",
    "        ORDER BY COUNT(*) DESC\")\n",
    "    return cursor.fetchall()\n",
    " \n",
    "len(preference_profiles())"
   ]
  },
  {
   "cell_type": "code",
   "execution_count": 44,
   "id": "e180c7bf-c166-48f3-9c59-26cf8377a9e7",
   "metadata": {},
   "outputs": [],
   "source": [
    "def IRV(db_name):\n",
    "    #brute-force implementation\n",
    "    #output is not necessarily a good ranking of preference, since worst candidates might\n",
    "    #get no first place votes but more second-place votes\n",
    "    #doesn't handle N/A votes well\n",
    "    can_win = list(results)\n",
    "    to_return = []\n",
    "    with sqlite3.connect(\"voter_data.db\") as conn:\n",
    "        count = 0\n",
    "        cursor = conn.cursor()\n",
    "        while len(can_win)>1:\n",
    "            votes=[]\n",
    "            tallies=[]\n",
    "            can_win_str = tuple(can_win)\n",
    "            \n",
    "            cmd = f\"SELECT rank1,COUNT(rank1) FROM {db_name} WHERE rank1 IN {can_win_str} GROUP BY rank1\"\n",
    "            cursor.execute(cmd)\n",
    "            votes += [cursor.fetchall()]\n",
    "            \n",
    "            cmd = f\"SELECT rank2,COUNT(rank2) FROM {db_name} \\\n",
    "            WHERE rank2 IN {can_win_str} AND rank1 NOT IN {can_win_str} GROUP BY rank2\"\n",
    "            cursor.execute(cmd)\n",
    "            votes += [cursor.fetchall()]\n",
    "            \n",
    "            cmd = f\"SELECT rank3,COUNT(rank3) FROM {db_name} \\\n",
    "            WHERE rank3 IN {can_win_str} AND rank1 NOT IN {can_win_str} AND rank2 NOT IN {can_win_str} \\\n",
    "            GROUP BY rank3\"\n",
    "            cursor.execute(cmd)\n",
    "            votes += [cursor.fetchall()]\n",
    "            \n",
    "            cmd = f\"SELECT rank4,COUNT(rank4) FROM {db_name} \\\n",
    "            WHERE rank4 IN {can_win_str} AND rank1 NOT IN {can_win_str} AND rank2 NOT IN {can_win_str} \\\n",
    "            AND rank3 NOT IN {can_win_str} \\\n",
    "            GROUP BY rank4\"\n",
    "            cursor.execute(cmd)\n",
    "            votes += [cursor.fetchall()]\n",
    "            \n",
    "            cmd = f\"SELECT rank5,COUNT(rank5) FROM {db_name} \\\n",
    "            WHERE rank5 IN {can_win_str} AND rank1 NOT IN {can_win_str} AND rank2 NOT IN {can_win_str} \\\n",
    "            AND rank3 NOT IN {can_win_str} AND rank4 NOT IN {can_win_str} \\\n",
    "            GROUP BY rank5\"\n",
    "            cursor.execute(cmd)\n",
    "            votes += [cursor.fetchall()]\n",
    "            \n",
    "            for person in can_win:\n",
    "                vote_count = sum([dict(votes[i]).get(person,0) for i in range(5)])\n",
    "                tallies += [(person,vote_count)]\n",
    "                \n",
    "            tallies = sorted(tallies,key=lambda x:-x[1])\n",
    "            print(tallies)\n",
    "            last_place = tallies[-1][0]\n",
    "            \n",
    "            to_return = [last_place] + to_return\n",
    "            can_win.remove(last_place)\n",
    "            \n",
    "        return can_win + to_return"
   ]
  },
  {
   "cell_type": "code",
   "execution_count": 45,
   "id": "5ec884fd-b19e-4ab2-a462-6b77a8b553d3",
   "metadata": {},
   "outputs": [
    {
     "name": "stdout",
     "output_type": "stream",
     "text": [
      "[('Joseph R. Biden', 9875), ('Bernie Sanders', 7771), ('Elizabeth Warren', 1411), ('Pete Buttigieg', 250), ('Amy Klobuchar', 138), ('Tulsi Gabbard', 131), ('Michael R. Bloomberg', 99), ('Tom Steyer', 67)]\n",
      "[('Joseph R. Biden', 9894), ('Bernie Sanders', 7785), ('Elizabeth Warren', 1420), ('Pete Buttigieg', 257), ('Amy Klobuchar', 144), ('Tulsi Gabbard', 133), ('Michael R. Bloomberg', 107)]\n",
      "[('Joseph R. Biden', 9948), ('Bernie Sanders', 7801), ('Elizabeth Warren', 1430), ('Pete Buttigieg', 268), ('Amy Klobuchar', 150), ('Tulsi Gabbard', 134)]\n",
      "[('Joseph R. Biden', 9970), ('Bernie Sanders', 7851), ('Elizabeth Warren', 1440), ('Pete Buttigieg', 281), ('Amy Klobuchar', 167)]\n",
      "[('Joseph R. Biden', 10013), ('Bernie Sanders', 7867), ('Elizabeth Warren', 1495), ('Pete Buttigieg', 327)]\n",
      "[('Joseph R. Biden', 10151), ('Bernie Sanders', 7923), ('Elizabeth Warren', 1610)]\n",
      "[('Joseph R. Biden', 10839), ('Bernie Sanders', 8761)]\n"
     ]
    },
    {
     "data": {
      "text/plain": [
       "['Joseph R. Biden',\n",
       " 'Bernie Sanders',\n",
       " 'Elizabeth Warren',\n",
       " 'Pete Buttigieg',\n",
       " 'Amy Klobuchar',\n",
       " 'Tulsi Gabbard',\n",
       " 'Michael R. Bloomberg',\n",
       " 'Tom Steyer']"
      ]
     },
     "execution_count": 45,
     "metadata": {},
     "output_type": "execute_result"
    }
   ],
   "source": [
    "IRV(\"votes\")"
   ]
  },
  {
   "cell_type": "code",
   "execution_count": 89,
   "id": "dac287ef-0e0a-4cf2-81fb-7db3f65ca745",
   "metadata": {},
   "outputs": [],
   "source": [
    "def TopTwo(db_name):\n",
    "    plural = plurality(db_name)\n",
    "    top_two = [plural[0][0],plural[1][0]]\n",
    "    count1 = np.sum([get_ranks(top_two[0],db_name)<get_ranks(top_two[1],db_name)])\n",
    "    count2 = np.sum([get_ranks(top_two[0],db_name)>get_ranks(top_two[1],db_name)])\n",
    "    results = list(zip(top_two,[count1,count2]))\n",
    "    if count1 > count2:\n",
    "        return results\n",
    "    else:\n",
    "        return results.reverse()"
   ]
  },
  {
   "cell_type": "code",
   "execution_count": null,
   "id": "5f8d1148-2611-40b2-957a-8811f7a5372a",
   "metadata": {},
   "outputs": [],
   "source": []
  },
  {
   "cell_type": "code",
   "execution_count": 90,
   "id": "a02d5f0b-1474-47a1-8b73-a1610c9b6a13",
   "metadata": {},
   "outputs": [
    {
     "data": {
      "text/plain": [
       "[('Joseph R. Biden', 10839), ('Bernie Sanders', 8761)]"
      ]
     },
     "execution_count": 90,
     "metadata": {},
     "output_type": "execute_result"
    }
   ],
   "source": [
    "TopTwo(\"votes\")"
   ]
  },
  {
   "cell_type": "code",
   "execution_count": null,
   "id": "1c96b6a5-3cd4-437b-9043-9ce7314f189b",
   "metadata": {},
   "outputs": [],
   "source": []
  }
 ],
 "metadata": {
  "kernelspec": {
   "display_name": "PIC16B",
   "language": "python",
   "name": "python3"
  },
  "language_info": {
   "codemirror_mode": {
    "name": "ipython",
    "version": 3
   },
   "file_extension": ".py",
   "mimetype": "text/x-python",
   "name": "python",
   "nbconvert_exporter": "python",
   "pygments_lexer": "ipython3",
   "version": "3.8.15 (default, Nov 24 2022, 09:04:07) \n[Clang 14.0.6 ]"
  },
  "vscode": {
   "interpreter": {
    "hash": "25d01a15fbad6d86f6fb173b65f372a5de5983691a6031a1cca20a416464f5ec"
   }
  }
 },
 "nbformat": 4,
 "nbformat_minor": 5
}
